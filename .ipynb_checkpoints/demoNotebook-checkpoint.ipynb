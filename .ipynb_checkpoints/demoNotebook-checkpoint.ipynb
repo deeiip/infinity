{
 "cells": [
  {
   "cell_type": "code",
   "execution_count": 1,
   "metadata": {
    "collapsed": false
   },
   "outputs": [
    {
     "name": "stdout",
     "output_type": "stream",
     "text": [
      "Using TensorFlow backend.\n"
     ]
    }
   ],
   "source": [
    "from __future__ import print_function\n",
    "\n",
    "import csv\n",
    "import numpy as np\n",
    "\n",
    "from model import get_model\n",
    "from utils import real_to_cdf, preprocess"
   ]
  },
  {
   "cell_type": "code",
   "execution_count": 2,
   "metadata": {
    "collapsed": true
   },
   "outputs": [],
   "source": [
    "def load_validation_data():\n",
    "    \"\"\"\n",
    "    Load validation data from .npy files.\n",
    "    \"\"\"\n",
    "    X = np.load('data/X_validate.npy')\n",
    "    ids = np.load('data/ids_validate.npy')\n",
    "\n",
    "    X = X.astype(np.float32)\n",
    "    X /= 255\n",
    "\n",
    "    return X, ids\n",
    "\n"
   ]
  },
  {
   "cell_type": "code",
   "execution_count": 3,
   "metadata": {
    "collapsed": true
   },
   "outputs": [],
   "source": [
    "def accumulate_study_results(ids, prob):\n",
    "    \"\"\"\n",
    "    Accumulate results per study (because one study has many SAX slices),\n",
    "    so the averaged CDF for all slices is returned.\n",
    "    \"\"\"\n",
    "    sum_result = {}\n",
    "    cnt_result = {}\n",
    "    size = prob.shape[0]\n",
    "    for i in range(size):\n",
    "        study_id = ids[i]\n",
    "        idx = int(study_id)\n",
    "        if idx not in cnt_result:\n",
    "            cnt_result[idx] = 0.\n",
    "            sum_result[idx] = np.zeros((1, prob.shape[1]), dtype=np.float32)\n",
    "        cnt_result[idx] += 1\n",
    "        sum_result[idx] += prob[i, :]\n",
    "    for i in cnt_result.keys():\n",
    "        sum_result[i][:] /= cnt_result[i]\n",
    "    return sum_result\n",
    "\n"
   ]
  },
  {
   "cell_type": "code",
   "execution_count": 4,
   "metadata": {
    "collapsed": false
   },
   "outputs": [
    {
     "name": "stdout",
     "output_type": "stream",
     "text": [
      "Loading and compiling models...\n",
      "Loading models weights...\n",
      "Loading validation data...\n",
      "Pre-processing images...\n",
      "18/18 [==============================] - 2s     \n",
      "Predicting on validation data...\n",
      "18/18 [==============================] - 1s\n",
      "18/18 [==============================] - 1s\n",
      "Accumulating results...\n"
     ]
    }
   ],
   "source": [
    "print('Loading and compiling models...')\n",
    "model_systole = get_model()\n",
    "model_diastole = get_model()\n",
    "\n",
    "print('Loading models weights...')\n",
    "model_systole.load_weights('weights_systole_best.hdf5')\n",
    "model_diastole.load_weights('weights_diastole_best.hdf5')\n",
    "\n",
    "    # load val losses to use as sigmas for CDF\n",
    "with open('val_loss.txt', mode='r') as f:\n",
    "    val_loss_systole = float(f.readline())\n",
    "    val_loss_diastole = float(f.readline())\n",
    "\n",
    "print('Loading validation data...')\n",
    "X, ids = load_validation_data()\n",
    "\n",
    "print('Pre-processing images...')\n",
    "X = preprocess(X)\n",
    "\n",
    "batch_size = 32\n",
    "print('Predicting on validation data...')\n",
    "pred_systole = model_systole.predict(X, batch_size=batch_size, verbose=1)\n",
    "pred_diastole = model_diastole.predict(X, batch_size=batch_size, verbose=1)\n",
    "# real predictions to CDF\n",
    "cdf_pred_systole = real_to_cdf(pred_systole, val_loss_systole)\n",
    "cdf_pred_diastole = real_to_cdf(pred_diastole, val_loss_diastole)\n",
    "print('Accumulating results...')\n",
    "sub_systole = accumulate_study_results(ids, cdf_pred_systole)\n",
    "sub_diastole = accumulate_study_results(ids, cdf_pred_diastole)\n",
    "# write to submission file"
   ]
  },
  {
   "cell_type": "code",
   "execution_count": 5,
   "metadata": {
    "collapsed": true
   },
   "outputs": [],
   "source": [
    "%matplotlib inline\n",
    "\n",
    "import matplotlib"
   ]
  },
  {
   "cell_type": "code",
   "execution_count": 30,
   "metadata": {
    "collapsed": true
   },
   "outputs": [],
   "source": [
    "from __future__ import division\n",
    "def isclose(a, b, rel_tol=1e-02, abs_tol=0.0):\n",
    "    return abs(b-a) <= max(rel_tol * max(abs(a), abs(b)), abs_tol)"
   ]
  },
  {
   "cell_type": "code",
   "execution_count": 34,
   "metadata": {
    "collapsed": false
   },
   "outputs": [
    {
     "name": "stdout",
     "output_type": "stream",
     "text": [
      "systole volume is: 68\n",
      "diastole volume is : 152\n",
      "ef is : 55.2631578947\n"
     ]
    },
    {
     "data": {
      "image/png": "[encoded data removed]",
      "text/plain": [
       "<matplotlib.figure.Figure at 0x7efdb086ea90>"
      ]
     },
     "metadata": {},
     "output_type": "display_data"
    },
    {
     "name": "stdout",
     "output_type": "stream",
     "text": [
      "systole volume is: 98\n",
      "diastole volume is : 208\n",
      "ef is : 52.8846153846\n"
     ]
    },
    {
     "data": {
      "image/png": "[encoded data removed]",
      "text/plain": [
       "<matplotlib.figure.Figure at 0x7efdb0c5f4d0>"
      ]
     },
     "metadata": {},
     "output_type": "display_data"
    }
   ],
   "source": [
    "import matplotlib.pyplot as plt\n",
    "for key in sub_systole:\n",
    "    idx = 0\n",
    "    for prob in sub_systole[key][0]:\n",
    "        if isclose(prob, 0.66):\n",
    "            print('systole volume is: {0}'.format(idx))\n",
    "            break\n",
    "        idx+=1\n",
    "    vs = idx\n",
    "    plt.plot(range(0,600),sub_systole[key][0])\n",
    "    idx = 0\n",
    "    for prob in sub_diastole[key][0]:\n",
    "        if isclose(prob, 0.66):\n",
    "            print('diastole volume is : {0}'.format(idx))\n",
    "            break\n",
    "        idx+=1\n",
    "    vd = idx\n",
    "    ratio = 0.0\n",
    "    ratio = ((vd - vs)/vd)*100\n",
    "    print('ef is : {0}'.format(ratio))\n",
    "    plt.plot(range(0,600),sub_diastole[key][0])\n",
    "    plt.ylabel('Probablity')\n",
    "    plt.xlabel('Volume of heart in ml')\n",
    "    plt.title('Volume distribution of heart, for sample number {0}'.format(key))\n",
    "    plt.show()\n"
   ]
  },
  {
   "cell_type": "code",
   "execution_count": null,
   "metadata": {
    "collapsed": true
   },
   "outputs": [],
   "source": [
    "\n",
    "    "
   ]
  }
 ],
 "metadata": {
  "kernelspec": {
   "display_name": "Python 2",
   "language": "python",
   "name": "python2"
  },
  "language_info": {
   "codemirror_mode": {
    "name": "ipython",
    "version": 2
   },
   "file_extension": ".py",
   "mimetype": "text/x-python",
   "name": "python",
   "nbconvert_exporter": "python",
   "pygments_lexer": "ipython2",
   "version": "2.7.11"
  }
 },
 "nbformat": 4,
 "nbformat_minor": 0
}
