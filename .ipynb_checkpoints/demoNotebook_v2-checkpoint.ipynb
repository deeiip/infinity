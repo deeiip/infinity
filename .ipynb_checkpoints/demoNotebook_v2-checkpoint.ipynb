{
 "cells": [
  {
   "cell_type": "code",
   "execution_count": 1,
   "metadata": {
    "collapsed": false
   },
   "outputs": [
    {
     "name": "stdout",
     "output_type": "stream",
     "text": [
      "Using TensorFlow backend.\n"
     ]
    }
   ],
   "source": [
    "from __future__ import print_function\n",
    "\n",
    "import csv\n",
    "import numpy as np\n",
    "\n",
    "from model import get_model\n",
    "from utils import real_to_cdf, preprocess"
   ]
  },
  {
   "cell_type": "code",
   "execution_count": 2,
   "metadata": {
    "collapsed": true
   },
   "outputs": [],
   "source": [
    "def load_validation_data():\n",
    "    \"\"\"\n",
    "    Load validation data from .npy files.\n",
    "    \"\"\"\n",
    "    X = np.load('data/X_validate.npy')\n",
    "    ids = np.load('data/ids_validate.npy')\n",
    "\n",
    "    X = X.astype(np.float32)\n",
    "    X /= 255\n",
    "\n",
    "    return X, ids\n",
    "\n"
   ]
  },
  {
   "cell_type": "code",
   "execution_count": 3,
   "metadata": {
    "collapsed": true
   },
   "outputs": [],
   "source": [
    "def accumulate_study_results(ids, prob):\n",
    "    \"\"\"\n",
    "    Accumulate results per study (because one study has many SAX slices),\n",
    "    so the averaged CDF for all slices is returned.\n",
    "    \"\"\"\n",
    "    sum_result = {}\n",
    "    cnt_result = {}\n",
    "    size = prob.shape[0]\n",
    "    for i in range(size):\n",
    "        study_id = ids[i]\n",
    "        idx = int(study_id)\n",
    "        if idx not in cnt_result:\n",
    "            cnt_result[idx] = 0.\n",
    "            sum_result[idx] = np.zeros((1, prob.shape[1]), dtype=np.float32)\n",
    "        cnt_result[idx] += 1\n",
    "        sum_result[idx] += prob[i, :]\n",
    "    for i in cnt_result.keys():\n",
    "        sum_result[i][:] /= cnt_result[i]\n",
    "    return sum_result\n",
    "\n"
   ]
  },
  {
   "cell_type": "code",
   "execution_count": 4,
   "metadata": {
    "collapsed": false
   },
   "outputs": [
    {
     "name": "stdout",
     "output_type": "stream",
     "text": [
      "Loading and compiling models...\n",
      "Loading models weights...\n",
      "Loading validation data...\n",
      "Pre-processing images...\n",
      "21/21 [==============================] - 2s     \n",
      "Predicting on validation data...\n",
      "21/21 [==============================] - 24s\n",
      "21/21 [==============================] - 4s\n",
      "Accumulating results...\n"
     ]
    }
   ],
   "source": [
    "print('Loading and compiling models...')\n",
    "model_systole = get_model()\n",
    "model_diastole = get_model()\n",
    "\n",
    "print('Loading models weights...')\n",
    "model_systole.load_weights('weights_systole_best.hdf5')\n",
    "model_diastole.load_weights('weights_diastole_best.hdf5')\n",
    "\n",
    "    # load val losses to use as sigmas for CDF\n",
    "with open('val_loss.txt', mode='r') as f:\n",
    "    val_loss_systole = float(f.readline())\n",
    "    val_loss_diastole = float(f.readline())\n",
    "\n",
    "print('Loading validation data...')\n",
    "X, ids = load_validation_data()\n",
    "\n",
    "print('Pre-processing images...')\n",
    "X = preprocess(X)\n",
    "\n",
    "batch_size = 32\n",
    "print('Predicting on validation data...')\n",
    "pred_systole = model_systole.predict(X, batch_size=batch_size, verbose=1)\n",
    "pred_diastole = model_diastole.predict(X, batch_size=batch_size, verbose=1)\n",
    "# real predictions to CDF\n",
    "cdf_pred_systole = real_to_cdf(pred_systole, val_loss_systole)\n",
    "cdf_pred_diastole = real_to_cdf(pred_diastole, val_loss_diastole)\n",
    "print('Accumulating results...')\n",
    "sub_systole = accumulate_study_results(ids, cdf_pred_systole)\n",
    "sub_diastole = accumulate_study_results(ids, cdf_pred_diastole)\n",
    "# write to submission file"
   ]
  },
  {
   "cell_type": "code",
   "execution_count": 5,
   "metadata": {
    "collapsed": true
   },
   "outputs": [],
   "source": [
    "%matplotlib inline\n",
    "\n",
    "import matplotlib"
   ]
  },
  {
   "cell_type": "code",
   "execution_count": 6,
   "metadata": {
    "collapsed": true
   },
   "outputs": [],
   "source": [
    "from __future__ import division\n",
    "from IPython.display import display, HTML\n",
    "def isclose(a, b, rel_tol=1e-02, abs_tol=0.0):\n",
    "    return abs(b-a) <= max(rel_tol * max(abs(a), abs(b)), abs_tol)"
   ]
  },
  {
   "cell_type": "code",
   "execution_count": 15,
   "metadata": {
    "collapsed": false
   },
   "outputs": [
    {
     "data": {
      "text/html": [
       "<html>\n",
       "<head>\n",
       "<!-- Latest compiled and minified CSS -->\n",
       "<link rel=\"stylesheet\" href=\"https://maxcdn.bootstrapcdn.com/bootstrap/3.3.6/css/bootstrap.min.css\" integrity=\"sha384-1q8mTJOASx8j1Au+a5WDVnPi2lkFfwwEAa8hDDdjZlpLegxhjVME1fgjWPGmkzs7\" crossorigin=\"anonymous\">\n",
       "\n",
       "<!-- Optional theme -->\n",
       "<link rel=\"stylesheet\" href=\"https://bootswatch.com/cosmo/bootstrap.min.css\" >\n",
       "\n",
       "<!-- Latest compiled and minified JavaScript -->\n",
       "<script src=\"https://maxcdn.bootstrapcdn.com/bootstrap/3.3.6/js/bootstrap.min.js\" integrity=\"sha384-0mSbJDEHialfmuBBQP6A4Qrprq5OVfW37PRR3j5ELqxss1yVqOtnepnHVP9aJ7xS\" crossorigin=\"anonymous\"></script>\n",
       "<link rel=\"stylesheet\" href=\"https://maxcdn.bootstrapcdn.com/font-awesome/4.5.0/css/font-awesome.min.css\">\n",
       "<head>\n",
       "<body>\n",
       "\n",
       "<a href=\"#\" class=\"btn btn-default btn-lg btn-success disabled\"><i class=\"fa fa-check-square-o\"></i> Ejection Fraction of this\n",
       "sample is 42.62%.\n",
       "This is considered normal\n",
       "<br>Systole volume: 105 ml\n",
       "<br>Diastole volume: 183 ml\n",
       "</a> \n",
       "</body>\n",
       "<html>\n",
       "        "
      ],
      "text/plain": [
       "<IPython.core.display.HTML object>"
      ]
     },
     "metadata": {},
     "output_type": "display_data"
    },
    {
     "data": {
      "image/png": "[encoded data removed]",
      "text/plain": [
       "<matplotlib.figure.Figure at 0x7f4cf1c7f4d0>"
      ]
     },
     "metadata": {},
     "output_type": "display_data"
    },
    {
     "data": {
      "text/html": [
       "<html>\n",
       "<head>\n",
       "<!-- Latest compiled and minified CSS -->\n",
       "<link rel=\"stylesheet\" href=\"https://maxcdn.bootstrapcdn.com/bootstrap/3.3.6/css/bootstrap.min.css\" integrity=\"sha384-1q8mTJOASx8j1Au+a5WDVnPi2lkFfwwEAa8hDDdjZlpLegxhjVME1fgjWPGmkzs7\" crossorigin=\"anonymous\">\n",
       "\n",
       "<!-- Optional theme -->\n",
       "<link rel=\"stylesheet\" href=\"https://bootswatch.com/cosmo/bootstrap.min.css\" >\n",
       "\n",
       "<!-- Latest compiled and minified JavaScript -->\n",
       "<script src=\"https://maxcdn.bootstrapcdn.com/bootstrap/3.3.6/js/bootstrap.min.js\" integrity=\"sha384-0mSbJDEHialfmuBBQP6A4Qrprq5OVfW37PRR3j5ELqxss1yVqOtnepnHVP9aJ7xS\" crossorigin=\"anonymous\"></script>\n",
       "<link rel=\"stylesheet\" href=\"https://maxcdn.bootstrapcdn.com/font-awesome/4.5.0/css/font-awesome.min.css\">\n",
       "<head>\n",
       "<body>\n",
       "<a href=\"#\" class=\"btn btn-default btn-lg btn-danger disabled\"><i class=\"fa fa-exclamation-triangle\"></i> Ejection Fraction\n",
       "of this sample is 36.92%.\n",
       "Which is below normal limit\n",
       "<br>Systole volume: 123 ml\n",
       "<br>Diastole volume: 195 ml\n",
       "</a> \n",
       "\n",
       "</body>\n",
       "<html>"
      ],
      "text/plain": [
       "<IPython.core.display.HTML object>"
      ]
     },
     "metadata": {},
     "output_type": "display_data"
    },
    {
     "data": {
      "image/png": "[encoded data removed]",
      "text/plain": [
       "<matplotlib.figure.Figure at 0x7f4cf1bc42d0>"
      ]
     },
     "metadata": {},
     "output_type": "display_data"
    }
   ],
   "source": [
    "import matplotlib.pyplot as plt\n",
    "for key in sub_systole:\n",
    "    idx = 0\n",
    "    for prob in sub_systole[key][0]:\n",
    "        if (prob > 0.88):\n",
    "            #print('systole volume is: {0}'.format(idx))\n",
    "            sys_vol = idx\n",
    "            break\n",
    "        idx+=1\n",
    "    vs = idx\n",
    "    plt.plot(range(0,600),sub_systole[key][0])\n",
    "    idx = 0\n",
    "    for prob in sub_diastole[key][0]:\n",
    "        if (prob > 0.70):\n",
    "            #print('diastole volume is : {0}'.format(idx))\n",
    "            dis_vol = idx\n",
    "            break\n",
    "        idx+=1\n",
    "    vd = idx\n",
    "    ratio = 0.0\n",
    "    ratio = ((vd - vs)/vd)*100\n",
    "    #print('ef is : {0}'.format(ratio))\n",
    "    if(ratio > 40):\n",
    "        htmlStr = \"\"\"<html>\n",
    "<head>\n",
    "<!-- Latest compiled and minified CSS -->\n",
    "<link rel=\"stylesheet\" href=\"https://maxcdn.bootstrapcdn.com/bootstrap/3.3.6/css/bootstrap.min.css\" integrity=\"sha384-1q8mTJOASx8j1Au+a5WDVnPi2lkFfwwEAa8hDDdjZlpLegxhjVME1fgjWPGmkzs7\" crossorigin=\"anonymous\">\n",
    "\n",
    "<!-- Optional theme -->\n",
    "<link rel=\"stylesheet\" href=\"https://bootswatch.com/cosmo/bootstrap.min.css\" >\n",
    "\n",
    "<!-- Latest compiled and minified JavaScript -->\n",
    "<script src=\"https://maxcdn.bootstrapcdn.com/bootstrap/3.3.6/js/bootstrap.min.js\" integrity=\"sha384-0mSbJDEHialfmuBBQP6A4Qrprq5OVfW37PRR3j5ELqxss1yVqOtnepnHVP9aJ7xS\" crossorigin=\"anonymous\"></script>\n",
    "<link rel=\"stylesheet\" href=\"https://maxcdn.bootstrapcdn.com/font-awesome/4.5.0/css/font-awesome.min.css\">\n",
    "<head>\n",
    "<body>\n",
    "\n",
    "<a href=\"#\" class=\"btn btn-default btn-lg btn-success disabled\"><i class=\"fa fa-check-square-o\"></i> Ejection Fraction of this\n",
    "sample is {0:.2f}%.\n",
    "This is considered normal\n",
    "<br>Systole volume: {1} ml\n",
    "<br>Diastole volume: {2} ml\n",
    "</a> \n",
    "</body>\n",
    "<html>\n",
    "        \"\"\".format(ratio, sys_vol, dis_vol)\n",
    "        display(HTML(htmlStr))\n",
    "    else:\n",
    "        htmlStr = \"\"\"<html>\n",
    "<head>\n",
    "<!-- Latest compiled and minified CSS -->\n",
    "<link rel=\"stylesheet\" href=\"https://maxcdn.bootstrapcdn.com/bootstrap/3.3.6/css/bootstrap.min.css\" integrity=\"sha384-1q8mTJOASx8j1Au+a5WDVnPi2lkFfwwEAa8hDDdjZlpLegxhjVME1fgjWPGmkzs7\" crossorigin=\"anonymous\">\n",
    "\n",
    "<!-- Optional theme -->\n",
    "<link rel=\"stylesheet\" href=\"https://bootswatch.com/cosmo/bootstrap.min.css\" >\n",
    "\n",
    "<!-- Latest compiled and minified JavaScript -->\n",
    "<script src=\"https://maxcdn.bootstrapcdn.com/bootstrap/3.3.6/js/bootstrap.min.js\" integrity=\"sha384-0mSbJDEHialfmuBBQP6A4Qrprq5OVfW37PRR3j5ELqxss1yVqOtnepnHVP9aJ7xS\" crossorigin=\"anonymous\"></script>\n",
    "<link rel=\"stylesheet\" href=\"https://maxcdn.bootstrapcdn.com/font-awesome/4.5.0/css/font-awesome.min.css\">\n",
    "<head>\n",
    "<body>\n",
    "<a href=\"#\" class=\"btn btn-default btn-lg btn-danger disabled\"><i class=\"fa fa-exclamation-triangle\"></i> Ejection Fraction\n",
    "of this sample is {0:.2f}%.\n",
    "Which is below normal limit\n",
    "<br>Systole volume: {1} ml\n",
    "<br>Diastole volume: {2} ml\n",
    "</a> \n",
    "\n",
    "</body>\n",
    "<html>\"\"\".format(ratio, sys_vol, dis_vol)\n",
    "        display(HTML(htmlStr))\n",
    "    plt.plot(range(0,600),sub_diastole[key][0])\n",
    "    plt.ylabel('Probablity')\n",
    "    plt.xlabel('Volume of heart in ml')\n",
    "    plt.title('Volume distribution of heart, for sample number {0}'.format(key))\n",
    "    plt.show()\n"
   ]
  },
  {
   "cell_type": "code",
   "execution_count": null,
   "metadata": {
    "collapsed": true
   },
   "outputs": [],
   "source": [
    "\n",
    "    "
   ]
  }
 ],
 "metadata": {
  "kernelspec": {
   "display_name": "Python 2",
   "language": "python",
   "name": "python2"
  },
  "language_info": {
   "codemirror_mode": {
    "name": "ipython",
    "version": 2
   },
   "file_extension": ".py",
   "mimetype": "text/x-python",
   "name": "python",
   "nbconvert_exporter": "python",
   "pygments_lexer": "ipython2",
   "version": "2.7.11"
  }
 },
 "nbformat": 4,
 "nbformat_minor": 0
}
