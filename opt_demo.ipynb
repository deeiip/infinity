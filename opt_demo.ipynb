{
 "cells": [
  {
   "cell_type": "code",
   "execution_count": 2,
   "metadata": {
    "collapsed": true
   },
   "outputs": [],
   "source": [
    "%matplotlib inline\n",
    "import numpy as np\n",
    "import pandas as pd\n",
    "import sklearn\n",
    "import matplotlib.pyplot as plt"
   ]
  },
  {
   "cell_type": "code",
   "execution_count": 22,
   "metadata": {
    "collapsed": false
   },
   "outputs": [
    {
     "name": "stdout",
     "output_type": "stream",
     "text": [
      "    Id  Systole  Diastole  age  race  risky\n",
      "0    1    108.3     246.7   58     3      0\n",
      "1    2     54.6     137.2   44     1      0\n",
      "2    3     32.7      99.3   33     4      0\n",
      "3    4     57.7     154.5   38     1      0\n",
      "4    5     83.3     235.5   42     2      0\n",
      "5    6    225.3     317.9   78     1      1\n",
      "6    7     64.9     138.0   68     1      0\n",
      "7    8    158.3     305.5   62     3      1\n",
      "8    9     61.4     152.2   38     1      0\n",
      "9   10    105.2     219.3   48     2      0\n",
      "10  11    107.9     174.3   72     4      1\n",
      "   Id  Systole  Diastole  age  race  risky  somefuck\n",
      "0   1    108.3     246.7   58     3      0         2\n"
     ]
    }
   ],
   "source": [
    "df = pd.read_csv('opt_train.csv')\n",
    "df_x = df[['Systole', 'Diastole','age','race']]\n",
    "df_y = df['risky']\n",
    "print df\n",
    "df2 = df[:1].copy()\n",
    "df2['somefuck'] = 2\n",
    "print df2"
   ]
  },
  {
   "cell_type": "code",
   "execution_count": 3,
   "metadata": {
    "collapsed": false
   },
   "outputs": [],
   "source": [
    "from sklearn.linear_model import LinearRegression\n",
    "lm = LinearRegression(normalize=True)"
   ]
  },
  {
   "cell_type": "code",
   "execution_count": 4,
   "metadata": {
    "collapsed": false
   },
   "outputs": [
    {
     "data": {
      "text/plain": [
       "LinearRegression(copy_X=True, fit_intercept=True, n_jobs=1, normalize=True)"
      ]
     },
     "execution_count": 4,
     "metadata": {},
     "output_type": "execute_result"
    }
   ],
   "source": [
    "lm.fit(df_x, df_y)"
   ]
  },
  {
   "cell_type": "code",
   "execution_count": 5,
   "metadata": {
    "collapsed": false
   },
   "outputs": [
    {
     "data": {
      "text/plain": [
       "0.79904614201097834"
      ]
     },
     "execution_count": 5,
     "metadata": {},
     "output_type": "execute_result"
    }
   ],
   "source": [
    "lm.score(df_x, df_y)"
   ]
  },
  {
   "cell_type": "code",
   "execution_count": 9,
   "metadata": {
    "collapsed": false
   },
   "outputs": [
    {
     "data": {
      "text/plain": [
       "array([ 0.25726175])"
      ]
     },
     "execution_count": 9,
     "metadata": {},
     "output_type": "execute_result"
    }
   ],
   "source": [
    "lm.predict([[105.2,219.3,48 ,2]])"
   ]
  },
  {
   "cell_type": "code",
   "execution_count": 13,
   "metadata": {
    "collapsed": false
   },
   "outputs": [
    {
     "name": "stdout",
     "output_type": "stream",
     "text": [
      "2\n",
      "[1 2 5]\n",
      "3\n"
     ]
    }
   ],
   "source": [
    "ar = np.array([1,2])\n",
    "print len(ar)\n",
    "ar = np.insert(ar, len(ar), 5, axis = 0)\n",
    "print ar\n",
    "print len(ar)"
   ]
  },
  {
   "cell_type": "code",
   "execution_count": null,
   "metadata": {
    "collapsed": true
   },
   "outputs": [],
   "source": []
  }
 ],
 "metadata": {
  "kernelspec": {
   "display_name": "Python 2",
   "language": "python",
   "name": "python2"
  },
  "language_info": {
   "codemirror_mode": {
    "name": "ipython",
    "version": 2
   },
   "file_extension": ".py",
   "mimetype": "text/x-python",
   "name": "python",
   "nbconvert_exporter": "python",
   "pygments_lexer": "ipython2",
   "version": "2.7.11"
  }
 },
 "nbformat": 4,
 "nbformat_minor": 0
}
